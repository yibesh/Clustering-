{
 "cells": [
  {
   "cell_type": "code",
   "execution_count": null,
   "id": "154d146e-3607-4b1f-a0fb-2f27dc5e1291",
   "metadata": {},
   "outputs": [],
   "source": [
    "import pandas as pd\n",
    "import numpy as np\n",
    "from sklearn.metrics.pairwise import cosine_similarity\n",
    "from sklearn.model_selection import train_test_split\n",
    "\n",
    "# Download the MovieLens dataset (small version)\n",
    "url = \"https://files.grouplens.org/datasets/movielens/ml-latest-small.zip\"\n",
    "movies_df = pd.read_csv(\"movies.csv\")\n",
    "ratings_df = pd.read_csv(\"ratings.csv\")"
   ]
  },
  {
   "cell_type": "code",
   "execution_count": null,
   "id": "eb2cf5a3-fede-43e8-9cdb-d39f70c8ba48",
   "metadata": {},
   "outputs": [],
   "source": [
    "#You can check the columns of both the movies and ratings data\n",
    "print(movies_df.head())\n",
    "print(ratings_df.head())"
   ]
  },
  {
   "cell_type": "code",
   "execution_count": null,
   "id": "87951de1-3a64-47cf-8805-7d4d95fe59fb",
   "metadata": {},
   "outputs": [],
   "source": [
    "#To build a recommender system, transform the data into a user-item matrix, where rows are users, columns are movies, and the entries are the ratings.\n",
    "user_item_matrix = ratings_df.pivot(index='userId', columns='movieId', values='rating').fillna(0)"
   ]
  },
  {
   "cell_type": "code",
   "execution_count": null,
   "id": "a0e799bd-db01-4b80-a6f3-fdce3b0df2b1",
   "metadata": {},
   "outputs": [],
   "source": [
    "#Using cosine similarity, calculate the similarity matrix across movies or users.\n",
    "# Compute the cosine similarity between movies\n",
    "movie_similarity = cosine_similarity(user_item_matrix.T)  # Transpose to get movie similarity\n",
    "movie_similarity_df = pd.DataFrame(movie_similarity, index=user_item_matrix.columns, columns=user_item_matrix.columns)"
   ]
  },
  {
   "cell_type": "code",
   "execution_count": null,
   "id": "0ecc1ee0-f9e9-4a21-af07-dc7ea5d599e3",
   "metadata": {},
   "outputs": [],
   "source": [
    "#Define a function to recommend movies based on the similarity scores.\n",
    "def get_movie_recommendations(movie_id, num_recommendations=5):\n",
    "    # Get the similarity scores for the input movie\n",
    "    similar_movies = movie_similarity_df[movie_id].sort_values(ascending=False)\n",
    "    \n",
    "    # Exclude the input movie itself and select top recommendations\n",
    "    recommendations = similar_movies.iloc[1:num_recommendations+1]\n",
    "    return recommendations.index.to_list()\n",
    "\n",
    "# Example: Get recommendations for a specific movie\n",
    "recommended_movies = get_movie_recommendations(movie_id=1, num_recommendations=5)\n",
    "print(f\"Movies recommended for movieId 1: {recommended_movies}\")"
   ]
  }
 ],
 "metadata": {
  "kernelspec": {
   "display_name": "Python 3 (ipykernel)",
   "language": "python",
   "name": "python3"
  },
  "language_info": {
   "codemirror_mode": {
    "name": "ipython",
    "version": 3
   },
   "file_extension": ".py",
   "mimetype": "text/x-python",
   "name": "python",
   "nbconvert_exporter": "python",
   "pygments_lexer": "ipython3",
   "version": "3.11.7"
  }
 },
 "nbformat": 4,
 "nbformat_minor": 5
}
